{
 "cells": [
  {
   "cell_type": "markdown",
   "id": "e048f240",
   "metadata": {},
   "source": [
    "# Tarea Semanal 4\n",
    "Diseñar un filtro pasabanda con las siguientes especificaciones:\n",
    "1. ω0=2π 22 kHz\n",
    "2. Q=5\n",
    "3. Aproximación Chebyshev con ripple de 0,5 dB\n",
    "4. T(fS1)=-16 dB para fS1=17 kHz\n",
    "5. T(fS2)=-24 dB para fS2=36 kHz\n",
    "\n",
    "## Consignas\n",
    "\n",
    "1. Obtener la plantilla de diseño pasabanda normalizada\n",
    "2. Obtener la función transferencia normalizada del prototipo pasabajo que satisfaga el requerimiento del filtro pasabanda.\n",
    "3. Obtener la transferencia pasabanda normalizada\n",
    "4. Implementar mediante secciones pasivas separadas por seguidores de tensión activos.\n",
    "5. Activar las redes pasivas mediante la red propuesta aquí debajo y comprobar mediante simulación el comportamiento deseado."
   ]
  },
  {
   "cell_type": "markdown",
   "id": "73f70382",
   "metadata": {},
   "source": [
    "Para la obtención de la plantilla de diseño normalizada adopto como frecuencia de normalización 22kHz y calculo las frecuencias de interés normalizadas:"
   ]
  },
  {
   "cell_type": "code",
   "execution_count": 2,
   "id": "b47140a2",
   "metadata": {},
   "outputs": [
    {
     "name": "stdout",
     "output_type": "stream",
     "text": [
      "Ancho de banda del filtro: 27646 rad/seg\n",
      "Frecuencia de corte 1 normalizada: 0.7727\n",
      "Frecuencia de corte 2 normalizada: 1.6364\n"
     ]
    }
   ],
   "source": [
    "import numpy as np\n",
    "\n",
    "wo = 22e3\n",
    "q = 5\n",
    "fs1 = 17e3\n",
    "fs2 = 36e3\n",
    "\n",
    "bw = (2*np.pi*wo)/q\n",
    "fs1n = fs1/wo\n",
    "fs2n = fs2/wo\n",
    "print('Ancho de banda del filtro: {:0.0f} rad/seg'.format(bw))\n",
    "print('Frecuencia de corte 1 normalizada: {:.4f}'.format(fs1n))\n",
    "print('Frecuencia de corte 2 normalizada: {:.4f}'.format(fs2n))"
   ]
  },
  {
   "cell_type": "markdown",
   "id": "b3e9037a",
   "metadata": {},
   "source": [
    "Para obtener la transferencia normalizada del prototipo pasabajos, aplico el núcleo de transformación:\n",
    "$$K(s)=p=Q.\\frac{s^2+w_o^2}{s.w_o}$$\n",
    "Normalizo y paso al dominio de la frecuencia:\n",
    "$$\\Omega=\\frac{k(jw)}{j}=Q.\\frac{w^2-1}{w}$$"
   ]
  },
  {
   "cell_type": "code",
   "execution_count": 3,
   "id": "872dda0b",
   "metadata": {},
   "outputs": [
    {
     "name": "stdout",
     "output_type": "stream",
     "text": [
      "Frecuencia de corte 1 transformada: 2.6070\n",
      "Frecuencia de corte 2 transformada: 5.1263\n"
     ]
    }
   ],
   "source": [
    "Omega1 = abs(q*(fs1n**2-1)/fs1n)\n",
    "Omega2 = abs(q*(fs2n**2-1)/fs2n)\n",
    "\n",
    "print('Frecuencia de corte 1 transformada: {:.4f}'.format(Omega1))\n",
    "print('Frecuencia de corte 2 transformada: {:.4f}'.format(Omega2))"
   ]
  },
  {
   "cell_type": "markdown",
   "id": "ee2197d2",
   "metadata": {},
   "source": [
    "Me quedo con la más exigente, en este caso 2,607. Con esto ya tengo definida la plantilla del pasabajos. "
   ]
  },
  {
   "cell_type": "code",
   "execution_count": 4,
   "id": "c5792c7f",
   "metadata": {},
   "outputs": [
    {
     "name": "stdout",
     "output_type": "stream",
     "text": [
      "Epsilon: 0.3493\n",
      "Epsilon al cuadrado: 0.1220\n",
      "Orden del filtro: 3\n"
     ]
    }
   ],
   "source": [
    "alfa_min = 24\n",
    "alfa_max = 0.5\n",
    "\n",
    "epsilon_2 = 10**(alfa_max/10)-1\n",
    "epsilon = np.sqrt(epsilon_2)\n",
    "n = np.ceil(np.arccosh((np.power(10, alfa_min * 0.1) - 1) / (np.power(10, alfa_max * 0.1) - 1)) / (2 * np.arccosh(Omega1)))\n",
    "\n",
    "print('Epsilon: {:.4f}'.format(epsilon))\n",
    "print('Epsilon al cuadrado: {:.4f}'.format(epsilon_2))\n",
    "print('Orden del filtro: {:0.0f}'.format(n))"
   ]
  },
  {
   "cell_type": "markdown",
   "id": "f9983603",
   "metadata": {},
   "source": [
    "Para orden 3, la transferencia Chebyshev es:\n",
    "$$ \\lvert T(jw)\\rvert^2=\\frac{1}{1+\\varepsilon^2(4w^3-3w)^2}$$\n",
    "\n",
    "$$ \\lvert T(jw)\\rvert^2=\\frac{1}{16\\varepsilon^2w^6-24\\varepsilon^2w^4+9\\varepsilon^2w^2+1}$$\n",
    "\n",
    "Haciendo el reemplazo: $T(s).T(-s)=\\lvert T(jw)\\rvert^2\\rfloor_{w=\\frac{s}{j}}$\n",
    "\n",
    "$$ T(s).T(-s)=\\frac{1}{-16\\varepsilon^2s^6-24\\varepsilon^2s^4-9\\varepsilon^2s^2+1}$$\n",
    "\n",
    "$$ T(s).T(-s)=\\frac{\\frac{1}{-16\\varepsilon^2}}{s^6+1,5s^4+0,5625s^2-\\frac{1}{16\\varepsilon^2}}$$\n",
    "\n",
    "A continuación, obtengo las raíces del polinomio:"
   ]
  },
  {
   "cell_type": "code",
   "execution_count": 5,
   "id": "4d84f269",
   "metadata": {},
   "outputs": [
    {
     "name": "stdout",
     "output_type": "stream",
     "text": [
      "[-0.313+1.022j -0.313-1.022j  0.313+1.022j  0.313-1.022j -0.626+0.j\n",
      "  0.626+0.j   ]\n"
     ]
    }
   ],
   "source": [
    "pol = [1, 0, 1.5, 0, 0.5625, 0, -(1)/(16*epsilon_2)]\n",
    "np.set_printoptions(precision=3)\n",
    "print(np.roots(pol))"
   ]
  },
  {
   "cell_type": "markdown",
   "id": "d65523e8",
   "metadata": {},
   "source": [
    "Me quedo con las raíces correspondientes a $T(s)$\n",
    "\n",
    "$$ T(s)=\\frac{1,1424}{s^2+0,626.s+1,1424}\\frac{0,626}{s+0,626}$$\n",
    "\n",
    "Aplico a continuación el núcleo de transformación pasabanda: $K(s)=Q.\\frac{s^2+1}{s}$\n",
    "\n",
    "$$ T(s)=\\frac{1,1424}{(Q.\\frac{s^2+1}{s})^2+0,626.Q.\\frac{s^2+1}{s}+1,1424}.\\frac{0,626}{Q.\\frac{s^2+1}{s}+0,626}$$\n",
    "\n",
    "Haciendo desarrollo matemático, se llega a:\n",
    "\n",
    "$$ T(s)=\\frac{\\frac{1,1424}{Q^2}s^2}{s^4+0,1252s^3+2,046s^2+0,1252s+1}.\\frac{\\frac{0,626}{Q}s}{s^2+0,1252s+1}$$\n",
    "\n",
    "Calculo las raíces del polinomio de orden 4"
   ]
  },
  {
   "cell_type": "code",
   "execution_count": 6,
   "id": "c7831b04",
   "metadata": {},
   "outputs": [
    {
     "name": "stdout",
     "output_type": "stream",
     "text": [
      "[-0.034+1.107j -0.034-1.107j -0.028+0.902j -0.028-0.902j]\n"
     ]
    }
   ],
   "source": [
    "pol = [1, 0.1252, 2.046, 0.1252, 1]\n",
    "np.set_printoptions(precision=3)\n",
    "print(np.roots(pol))"
   ]
  },
  {
   "cell_type": "markdown",
   "id": "17808f35",
   "metadata": {},
   "source": [
    "$$ T(s)=\\frac{\\frac{1,2266}{Q}s}{s^2+0,069s+1,2266}.\\frac{\\frac{0,814}{Q}s}{s^2+0,056s+0,814}.\\frac{\\frac{0,626}{Q}s}{s^2+0,1252s+1} $$\n",
    "\n",
    "A partir de las transferencias, se pueden obtener las estructuras pasivas asociadas LCR:"
   ]
  },
  {
   "cell_type": "code",
   "execution_count": 7,
   "id": "06b49268",
   "metadata": {},
   "outputs": [
    {
     "name": "stdout",
     "output_type": "stream",
     "text": [
      "Parametros del 1er filtro:\n",
      "Wo1=1.1075 - Q1=16.0510 - k1=0.2813\n",
      "\n",
      "Componentes normalizados del 1er filtro:\n",
      "L1=14.4928 - C1=0.0563 - R1=1.0000\n"
     ]
    }
   ],
   "source": [
    "wo1_2 = 1.2266\n",
    "wo1_q = 0.069\n",
    "\n",
    "wo1 = np.sqrt(wo1_2)\n",
    "q1 = wo1/wo1_q\n",
    "k1 = (wo1/q1)*(q/wo1_2)\n",
    "\n",
    "print('Parametros del 1er filtro:')\n",
    "print('Wo1={:.4f} - Q1={:.4f} - k1={:.4f}'.format(wo1, q1, k1))\n",
    "\n",
    "l1 = q1/wo1\n",
    "c1 = 1/(wo1*q1)\n",
    "r1 = 1\n",
    "\n",
    "print()\n",
    "print('Componentes normalizados del 1er filtro:')\n",
    "print('L1={:.4f} - C1={:.4f} - R1={:.4f}'.format(l1, c1, r1))"
   ]
  },
  {
   "cell_type": "code",
   "execution_count": 8,
   "id": "6d6bbb56",
   "metadata": {},
   "outputs": [
    {
     "name": "stdout",
     "output_type": "stream",
     "text": [
      "Parametros del 2do filtro:\n",
      "Wo2=0.9022 - Q2=16.1111 - k2=0.3440\n",
      "\n",
      "Componentes normalizados del 2do filtro:\n",
      "L2=17.8571 - C2=0.0688 - R2=1.0000\n"
     ]
    }
   ],
   "source": [
    "wo2_2 = 0.814\n",
    "wo2_q = 0.056\n",
    "\n",
    "wo2 = np.sqrt(wo2_2)\n",
    "q2 = wo2/wo2_q\n",
    "k2 = (wo2/q2)*(q/wo2_2)\n",
    "\n",
    "print('Parametros del 2do filtro:')\n",
    "print('Wo2={:.4f} - Q2={:.4f} - k2={:.4f}'.format(wo2, q2, k2))\n",
    "\n",
    "l2 = q2/wo2\n",
    "c2 = 1/(wo2*q2)\n",
    "r2 = 1\n",
    "\n",
    "print()\n",
    "print('Componentes normalizados del 2do filtro:')\n",
    "print('L2={:.4f} - C2={:.4f} - R2={:.4f}'.format(l2, c2, r2))"
   ]
  },
  {
   "cell_type": "code",
   "execution_count": 9,
   "id": "a4f5c86d",
   "metadata": {},
   "outputs": [
    {
     "name": "stdout",
     "output_type": "stream",
     "text": [
      "Parametros del 3er filtro:\n",
      "Wo3=1.0000 - Q3=7.9872 - k3=0.6260\n",
      "\n",
      "Componentes normalizados del 3er filtro:\n",
      "L3=7.9872 - C3=0.1252 - R3=1.0000\n"
     ]
    }
   ],
   "source": [
    "wo3_2 = 1\n",
    "wo3_q = 0.1252\n",
    "\n",
    "wo3 = np.sqrt(wo3_2)\n",
    "q3 = wo3/wo3_q\n",
    "k3 = (wo3/q3)*(q/wo3_2)\n",
    "\n",
    "print('Parametros del 3er filtro:')\n",
    "print('Wo3={:.4f} - Q3={:.4f} - k3={:.4f}'.format(wo3, q3, k3))\n",
    "\n",
    "l3 = q3/wo3\n",
    "c3 = 1/(wo3*q3)\n",
    "r3 = 1\n",
    "\n",
    "print()\n",
    "print('Componentes normalizados del 3er filtro:')\n",
    "print('L3={:.4f} - C3={:.4f} - R3={:.4f}'.format(l3, c3, r3))"
   ]
  },
  {
   "cell_type": "markdown",
   "id": "2e00f67d",
   "metadata": {},
   "source": [
    "Desnormalización de los componentes de los filtros:"
   ]
  },
  {
   "cell_type": "code",
   "execution_count": 10,
   "id": "3882968c",
   "metadata": {},
   "outputs": [
    {
     "name": "stdout",
     "output_type": "stream",
     "text": [
      "Componentes del 1er filtro:\n",
      "L1=1.0485 Hy - C1=4.070e-11 F - R1_1=7.1873e+03 Ohm - R1_1=2.8127e+03 Ohm\n"
     ]
    }
   ],
   "source": [
    "norma_z = 10e3\n",
    "norma_w = 2*np.pi*wo\n",
    "\n",
    "l1 = (l1*norma_z)/norma_w\n",
    "c1 = c1/(norma_z*norma_w)\n",
    "r1_1 = r1*norma_z - k1*norma_z\n",
    "r1_2 = r1*norma_z - r1_1\n",
    "\n",
    "print('Componentes del 1er filtro:')\n",
    "print('L1={:.4f} Hy - C1={:.3e} F - R1_1={:.4e} Ohm - R1_1={:.4e} Ohm'.format(l1, c1, r1_1, r1_2))"
   ]
  },
  {
   "cell_type": "code",
   "execution_count": 11,
   "id": "88de9e22",
   "metadata": {},
   "outputs": [
    {
     "name": "stdout",
     "output_type": "stream",
     "text": [
      "Componentes del 2do filtro:\n",
      "L2=1.2918 Hy - C2=4.977e-11 F - R2_1=6.5602e+03 Ohm - R2_2=3.4398e+03 Ohm\n"
     ]
    }
   ],
   "source": [
    "l2 = (l2*norma_z)/norma_w\n",
    "c2 = c2/(norma_z*norma_w)\n",
    "r2_1 = r2*norma_z - k2*norma_z\n",
    "r2_2 = r2*norma_z - r2_1\n",
    "\n",
    "print('Componentes del 2do filtro:')\n",
    "print('L2={:.4f} Hy - C2={:.3e} F - R2_1={:.4e} Ohm - R2_2={:.4e} Ohm'.format(l2, c2, r2_1, r2_2))"
   ]
  },
  {
   "cell_type": "code",
   "execution_count": 12,
   "id": "7b18fd8d",
   "metadata": {},
   "outputs": [
    {
     "name": "stdout",
     "output_type": "stream",
     "text": [
      "Componentes del 3er filtro:\n",
      "L3=0.5778 Hy - C3=9.057e-11 F - R3=1.0000e+04 Ohm\n"
     ]
    }
   ],
   "source": [
    "l3 = (l3*norma_z)/norma_w\n",
    "c3 = c3/(norma_z*norma_w)\n",
    "r3_1 = r3*norma_z\n",
    "\n",
    "print('Componentes del 3er filtro:')\n",
    "print('L3={:.4f} Hy - C3={:.3e} F - R3={:.4e} Ohm'.format(l3, c3, r3_1))"
   ]
  },
  {
   "cell_type": "markdown",
   "id": "65e827b8",
   "metadata": {},
   "source": [
    "Para la verificación, se realizó la siguiente simulación en LTSpice:\n",
    "\n",
    "<div>\n",
    "<img src=\"img/circuito.PNG\" alt=\"Drawing\" style=\"width: 800px;\"/>\n",
    "</div>\n",
    "\n",
    "A lo cual se obtuvieron los siguientes resultados:\n",
    "\n",
    "<div>\n",
    "<img src=\"img/simulacion.PNG\" alt=\"Drawing\" style=\"width: 800px;\"/>\n",
    "</div>\n",
    "\n",
    "Se puede observar que la transferencia cumple con las condiciones establecidas en cuanto a formas, pero no en cuanto a magnitud. Se puede ver que nos encontramos 40dB por debajo de lo establecido.\n",
    "\n",
    "Para activar las bobinas, se usará el siguiente circuito:\n",
    "\n",
    "\n",
    "<div>\n",
    "<img src=\"img/activador.png\" alt=\"Drawing\" style=\"width: 800px;\"/>\n",
    "</div>\n",
    "\n",
    "Este circuito es equivalente a colocar una bobina a masa, por lo que cambia la topología de la primera propuesta por su circuito dual. Por lo tanto, se recalculan a continuación los componentes para este nuevo circuito:"
   ]
  },
  {
   "cell_type": "code",
   "execution_count": 24,
   "id": "71871051",
   "metadata": {},
   "outputs": [
    {
     "name": "stdout",
     "output_type": "stream",
     "text": [
      "\n",
      "Componentes normalizados del 1er filtro:\n",
      "L1=0.0563 - C1=14.4928 - R1=1.0000\n",
      "Componentes del 1er filtro:\n",
      "L1=4.070e-03 Hy - C1=1.048e-08 F - R1_1=3.5554e+04 Ohm - R1_2=1.3913e+04 Ohm\n"
     ]
    }
   ],
   "source": [
    "c1 = q1/wo1\n",
    "l1 = 1/(wo1*q1)\n",
    "r1 = 1\n",
    "\n",
    "print()\n",
    "print('Componentes normalizados del 1er filtro:')\n",
    "print('L1={:.4f} - C1={:.4f} - R1={:.4f}'.format(l1, c1, r1))\n",
    "\n",
    "l1 = (l1*norma_z)/norma_w\n",
    "c1 = c1/(norma_z*norma_w)\n",
    "r1_1 = (r1*norma_z)/k1\n",
    "r1_2 = (r1*norma_z)/(1-k1)\n",
    "\n",
    "print('Componentes del 1er filtro:')\n",
    "print('L1={:.3e} Hy - C1={:.3e} F - R1_1={:.4e} Ohm - R1_2={:.4e} Ohm'.format(l1, c1, r1_1, r1_2))"
   ]
  },
  {
   "cell_type": "code",
   "execution_count": 27,
   "id": "36688a6c",
   "metadata": {},
   "outputs": [
    {
     "name": "stdout",
     "output_type": "stream",
     "text": [
      "\n",
      "Componentes normalizados del 2do filtro:\n",
      "L2=0.0688 - C2=17.8571 - R2=1.0000\n",
      "Componentes del 2do filtro:\n",
      "L2=4.977e-03 Hy - C2=1.292e-08 F - R2_1=2.9071e+04 Ohm - R2_2=1.5243e+04 Ohm\n"
     ]
    }
   ],
   "source": [
    "c2 = q2/wo2\n",
    "l2 = 1/(wo2*q2)\n",
    "r2 = 1\n",
    "\n",
    "print()\n",
    "print('Componentes normalizados del 2do filtro:')\n",
    "print('L2={:.4f} - C2={:.4f} - R2={:.4f}'.format(l2, c2, r2))\n",
    "\n",
    "l2 = (l2*norma_z)/norma_w\n",
    "c2 = c2/(norma_z*norma_w)\n",
    "r2_1 = (r2*norma_z)/k2\n",
    "r2_2 = (r2*norma_z)/(1-k2)\n",
    "\n",
    "print('Componentes del 2do filtro:')\n",
    "print('L2={:.3e} Hy - C2={:.3e} F - R2_1={:.4e} Ohm - R2_2={:.4e} Ohm'.format(l2, c2, r2_1, r2_2))"
   ]
  },
  {
   "cell_type": "code",
   "execution_count": 30,
   "id": "fe935c74",
   "metadata": {},
   "outputs": [
    {
     "name": "stdout",
     "output_type": "stream",
     "text": [
      "\n",
      "Componentes normalizados del 3er filtro:\n",
      "L3=0.1252 - C3=7.9872 - R3=1.0000\n",
      "Componentes del 3er filtro:\n",
      "L3=9.057e-03 Hy - C3=5.778e-09 F - R3=1.0000e+04 Ohm\n"
     ]
    }
   ],
   "source": [
    "c3 = q3/wo3\n",
    "l3 = 1/(wo3*q3)\n",
    "r3= 1\n",
    "\n",
    "print()\n",
    "print('Componentes normalizados del 3er filtro:')\n",
    "print('L3={:.4f} - C3={:.4f} - R3={:.4f}'.format(l3, c3, r3))\n",
    "\n",
    "l3 = (l3*norma_z)/norma_w\n",
    "c3 = c3/(norma_z*norma_w)\n",
    "r3_1 = r3*norma_z\n",
    "\n",
    "print('Componentes del 3er filtro:')\n",
    "print('L3={:.3e} Hy - C3={:.3e} F - R3={:.4e} Ohm'.format(l3, c3, r3_1))"
   ]
  },
  {
   "cell_type": "markdown",
   "id": "089738ae",
   "metadata": {},
   "source": [
    "Conociendo los valores de inductancia deseados, calculamos los valores de los componentes que permiten la activación de los inductores: $Leq=R^2.C$"
   ]
  },
  {
   "cell_type": "code",
   "execution_count": 37,
   "id": "af1b2c71",
   "metadata": {},
   "outputs": [
    {
     "name": "stdout",
     "output_type": "stream",
     "text": [
      "En todos los casos usamos C=1e-09\n",
      "Resistencias para activar inductor 1: R=2.017e+03\n",
      "Resistencias para activar inductor 2: R=2.231e+03\n",
      "Resistencias para activar inductor 3: R=3.010e+03\n"
     ]
    }
   ],
   "source": [
    "c = 1e-9\n",
    "\n",
    "r_l1 = np.sqrt(l1/c)\n",
    "r_l2 = np.sqrt(l2/c)\n",
    "r_l3 = np.sqrt(l3/c)\n",
    "\n",
    "print('En todos los casos usamos C={:.0e}'.format(c))\n",
    "print('Resistencias para activar inductor 1: R={:.3e}'.format(r_l1))\n",
    "print('Resistencias para activar inductor 2: R={:.3e}'.format(r_l2))\n",
    "print('Resistencias para activar inductor 3: R={:.3e}'.format(r_l3))"
   ]
  },
  {
   "cell_type": "markdown",
   "id": "04efe4f4",
   "metadata": {},
   "source": [
    "Ahora ya tenemos los valores de todos los componentes, por lo tanto procedemos a armar el circuito en LTSpice y simularlo:\n",
    "\n",
    "<div>\n",
    "<img src=\"img/activado.PNG\" alt=\"Drawing\" style=\"width: 800px;\"/>\n",
    "</div>\n",
    "\n",
    "A lo que se obtuvo la siguiente transferencia:\n",
    "\n",
    "<div>\n",
    "<img src=\"img/simu_activado.PNG\" alt=\"Drawing\" style=\"width: 800px;\"/>\n",
    "</div>\n",
    "\n",
    "Se obtuvieron los mismos resultados que en la simulación previa, con la misma atenuación de 40dB que se había observado anteriormente."
   ]
  },
  {
   "cell_type": "markdown",
   "id": "bf5e4359",
   "metadata": {},
   "source": [
    "<!-- $$ T(s)=\\frac{\\frac{1}{4\\varepsilon}}{s^3+1,252.s^2+1,5343.s+0,7151}$$ -->"
   ]
  }
 ],
 "metadata": {
  "kernelspec": {
   "display_name": "Python 3 (ipykernel)",
   "language": "python",
   "name": "python3"
  },
  "language_info": {
   "codemirror_mode": {
    "name": "ipython",
    "version": 3
   },
   "file_extension": ".py",
   "mimetype": "text/x-python",
   "name": "python",
   "nbconvert_exporter": "python",
   "pygments_lexer": "ipython3",
   "version": "3.9.7"
  }
 },
 "nbformat": 4,
 "nbformat_minor": 5
}
