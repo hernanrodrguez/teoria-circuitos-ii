{
 "cells": [
  {
   "cell_type": "markdown",
   "id": "acf8f164",
   "metadata": {},
   "source": [
    "# Tarea Semanal N3\n",
    "A partir de la siguiente plantilla, sabiendo que:\n",
    "<div>\n",
    "<img src=\"img/plantilla.PNG\" alt=\"Drawing\" style=\"width: 400px;\"/>\n",
    "</div>\n",
    "$$ \\alpha_{max}=1 $$\n",
    "$$ \\alpha_{min}=35 $$\n",
    "$$ f_{p}=3500 $$\n",
    "$$ f_{s}=1000 $$\n",
    "\n",
    "1. Obtener polos y ceros para máxima planicidad en la banda de paso.\n",
    "2. Implementar el circuito con estructuras pasivas adaptadas mediante buffers.\n",
    "3. Utilizando una norma de impedancia ZN = 1K, obtenga el valor de los componentes.\n",
    "4. Active las bobinas utilizando una estructura con OPAMPs.\n",
    "\n",
    "Para comenzar con la resolución, normalizo la plantilla:"
   ]
  },
  {
   "cell_type": "code",
   "execution_count": 4,
   "id": "9dc112db",
   "metadata": {},
   "outputs": [
    {
     "name": "stdout",
     "output_type": "stream",
     "text": [
      "fp normalizada: 1.0\n",
      "fs normalizada: 0.2857\n"
     ]
    }
   ],
   "source": [
    "alfa_max = 1\n",
    "alfa_min = 35\n",
    "fp = 3500\n",
    "fs = 1000\n",
    "norma_w = 3500\n",
    "\n",
    "fp = fp/norma_w\n",
    "fs = fs/norma_w\n",
    "\n",
    "print(\"fp normalizada: {}\".format(fp))\n",
    "print(\"fs normalizada: {:.4f}\".format(fs))"
   ]
  },
  {
   "cell_type": "markdown",
   "id": "cd676ab4",
   "metadata": {},
   "source": [
    "A continuación, aplico la transformación a pasabajos: $k(s)=\\frac{1}{s}$"
   ]
  },
  {
   "cell_type": "code",
   "execution_count": 7,
   "id": "fdfa13d7",
   "metadata": {},
   "outputs": [
    {
     "name": "stdout",
     "output_type": "stream",
     "text": [
      "fp pasabajos: 1.0\n",
      "fs pasabajos: 3.5\n"
     ]
    }
   ],
   "source": [
    "fp = 1/fp\n",
    "fs = 1/fs\n",
    "\n",
    "print(\"fp pasabajos: {}\".format(fp))\n",
    "print(\"fs pasabajos: {}\".format(fs))"
   ]
  },
  {
   "cell_type": "markdown",
   "id": "493e22ec",
   "metadata": {},
   "source": [
    "Ya teniendo la plantilla pasabajos, puedo calcular $\\varepsilon$ y el orden del filtro:"
   ]
  },
  {
   "cell_type": "code",
   "execution_count": 9,
   "id": "74cb299f",
   "metadata": {},
   "outputs": [
    {
     "name": "stdout",
     "output_type": "stream",
     "text": [
      "Epsilon: 0.5088\n",
      "Epsilon al cuadrado: 0.2589\n",
      "Orden del filtro: 4\n"
     ]
    }
   ],
   "source": [
    "import numpy as np\n",
    "\n",
    "epsilon_2 = 10**(alfa_max/10)-1\n",
    "epsilon = np.sqrt(epsilon_2)\n",
    "n = np.ceil(np.arccosh((np.sqrt(np.power(10, alfa_min * 0.1)) - 1) / epsilon_2) / (np.arccosh(fs)))\n",
    "\n",
    "print('Epsilon: {:.4f}'.format(epsilon))\n",
    "print('Epsilon al cuadrado: {:.4f}'.format(epsilon_2))\n",
    "print('Orden del filtro: {:0.0f}'.format(n))"
   ]
  },
  {
   "cell_type": "markdown",
   "id": "fe5d150b",
   "metadata": {},
   "source": [
    "Para la obtención del diagrama de polos y ceros, planteamos la transferencia para un filtro genérico de máxima planicidad de orden 4:\n",
    "$$ \\lvert T(jw)\\rvert^2=\\frac{1}{1+\\varepsilon^2w^8} $$"
   ]
  },
  {
   "cell_type": "code",
   "execution_count": 38,
   "id": "530ffd59",
   "metadata": {},
   "outputs": [
    {
     "data": {
      "text/plain": [
       "(1, <AxesSubplot:xlabel='$\\\\sigma$', ylabel='j$\\\\omega$'>)"
      ]
     },
     "execution_count": 38,
     "metadata": {},
     "output_type": "execute_result"
    },
    {
     "data": {
      "image/png": "[encoded data removed]",
      "text/plain": [
       "<Figure size 432x288 with 1 Axes>"
      ]
     },
     "metadata": {
      "needs_background": "light"
     },
     "output_type": "display_data"
    }
   ],
   "source": [
    "from splane import pzmap, bodePlot\n",
    "from scipy.signal import TransferFunction\n",
    "import matplotlib.pyplot as plt\n",
    "\n",
    "\n",
    "my_tf = TransferFunction( [1], [epsilon_2, 0, 0, 0, 0, 0, 0, 0, 1] )\n",
    "\n",
    "pzmap(my_tf)"
   ]
  },
  {
   "cell_type": "markdown",
   "id": "ebbbadbe",
   "metadata": {},
   "source": [
    "Para máxima planicidad orden 4, la transferencia normalizada prototipo pasabajos a 3dB es:\n",
    "$$ \\lvert T(s)\\rvert=\\frac{1}{s^2+s.2.cos(\\frac{\\pi}{8})+1}\\frac{1}{s^2+s.2.cos(\\frac{3\\pi}{8})+1}$$\n",
    "\n",
    "Aplicando el núcleo de transformación $k(s)=\\frac{1}{s}$ obtenemos la transferencia normalizada pasaaltos a 3dB:\n",
    "$$ \\lvert T(s)\\rvert=\\frac{s^2}{s^2+s.2.cos(\\frac{\\pi}{8})+1}\\frac{s^2}{s^2+s.2.cos(\\frac{3\\pi}{8})+1}$$\n",
    "\n",
    "Sin embargo, se debe tener en cuenta que estas son las transferencias a 3dB (Butterworth). Para ello, debemos calcular la $\\omega$ de Butterworth:"
   ]
  },
  {
   "cell_type": "code",
   "execution_count": 10,
   "id": "192c8e03",
   "metadata": {},
   "outputs": [
    {
     "name": "stdout",
     "output_type": "stream",
     "text": [
      "Omega de Butterworth: 1.1840\n"
     ]
    }
   ],
   "source": [
    "omega_b = fp*epsilon**(-1/n)\n",
    "print(\"Omega de Butterworth: {:.4f}\".format(omega_b))"
   ]
  },
  {
   "cell_type": "markdown",
   "id": "9586df9b",
   "metadata": {},
   "source": [
    "Se plantea resolver el circuito mediante estructuras pasivas:\n",
    "<div>\n",
    "<img src=\"img/pasiva.PNG\" alt=\"Drawing\" style=\"width: 400px;\"/>\n",
    "</div>\n",
    "\n",
    "Con esta red puedo obtener las secciones de 2° orden deseadas:\n",
    "$$ \\lvert T(s)\\rvert=\\frac{k_1s^2}{s^2+s.2.cos(\\frac{\\pi}{8})+1}\\frac{k_2s^2}{s^2+s.2.cos(\\frac{3\\pi}{8})+1}$$\n",
    "\n",
    "Calculando los parámetros de las SOS:"
   ]
  },
  {
   "cell_type": "code",
   "execution_count": 31,
   "id": "2e339366",
   "metadata": {},
   "outputs": [
    {
     "name": "stdout",
     "output_type": "stream",
     "text": [
      "Parametros del 1er filtro:\n",
      "Wo1=1.0000 - Q1=0.5412 - k1=1.0000\n",
      "\n",
      "Componentes normalizados del 1er filtro:\n",
      "L1=0.5412 - C1=1.8478 - R1=1.0000\n"
     ]
    }
   ],
   "source": [
    "wo1_2 = 1\n",
    "wo1_q = 2*np.cos(np.pi/8)\n",
    "\n",
    "wo1 = np.sqrt(wo1_2)\n",
    "q1 = wo1/wo1_q\n",
    "k1 = 1\n",
    "\n",
    "print('Parametros del 1er filtro:')\n",
    "print('Wo1={:.4f} - Q1={:.4f} - k1={:.4f}'.format(wo1, q1, k1))\n",
    "\n",
    "l1 = q1/wo1\n",
    "c1 = 1/(wo1*q1)\n",
    "r1 = 1\n",
    "\n",
    "print()\n",
    "print('Componentes normalizados del 1er filtro:')\n",
    "print('L1={:.4f} - C1={:.4f} - R1={:.4f}'.format(l1, c1, r1))"
   ]
  },
  {
   "cell_type": "code",
   "execution_count": 35,
   "id": "01002686",
   "metadata": {},
   "outputs": [
    {
     "name": "stdout",
     "output_type": "stream",
     "text": [
      "Parametros del 2do filtro:\n",
      "Wo2=1.0000 - Q2=1.3066 - k2=1.0000\n",
      "\n",
      "Componentes normalizados del 2do filtro:\n",
      "L2=1.3066 - C2=0.7654 - R2=1.0000\n"
     ]
    }
   ],
   "source": [
    "wo2_2 = 1\n",
    "wo2_q = 2*np.cos(3*np.pi/8)\n",
    "\n",
    "wo2 = np.sqrt(wo2_2)\n",
    "q2 = wo2/wo2_q\n",
    "k2 = 1\n",
    "\n",
    "print('Parametros del 2do filtro:')\n",
    "print('Wo2={:.4f} - Q2={:.4f} - k2={:.4f}'.format(wo2, q2, k2))\n",
    "\n",
    "l2 = q2/wo2\n",
    "c2 = 1/(wo2*q2)\n",
    "r2 = 1\n",
    "\n",
    "print()\n",
    "print('Componentes normalizados del 2do filtro:')\n",
    "print('L2={:.4f} - C2={:.4f} - R2={:.4f}'.format(l2, c2, r2))"
   ]
  },
  {
   "cell_type": "markdown",
   "id": "a2d6a3d7",
   "metadata": {},
   "source": [
    "Para la desnormalización de los componentes de los filtros debo calcular el $\\omega$ de Butterworth para el circuito pasaaltos ya que debe ser afectado por el núcleo de transformación:"
   ]
  },
  {
   "cell_type": "code",
   "execution_count": 24,
   "id": "dcd8aa37",
   "metadata": {},
   "outputs": [
    {
     "name": "stdout",
     "output_type": "stream",
     "text": [
      "Omega de Butterworth: 0.8446\n"
     ]
    }
   ],
   "source": [
    "omega_b = (1/fp)*epsilon**(1/n)\n",
    "print(\"Omega de Butterworth: {:.4f}\".format(omega_b))"
   ]
  },
  {
   "cell_type": "code",
   "execution_count": 32,
   "id": "25e7bd82",
   "metadata": {},
   "outputs": [
    {
     "name": "stdout",
     "output_type": "stream",
     "text": [
      "Componentes del 1er filtro:\n",
      "L1=0.2914 Hy - C1=9.948e-09 F - R1=1.0000e+04 Ohm\n"
     ]
    }
   ],
   "source": [
    "norma_z = 10e3\n",
    "norma_w = omega_b*2*np.pi*3500\n",
    "\n",
    "l1 = (l1*norma_z)/norma_w\n",
    "c1 = c1/(norma_z*norma_w)\n",
    "r1 = r1*norma_z\n",
    "\n",
    "print('Componentes del 1er filtro:')\n",
    "print('L1={:.4f} Hy - C1={:.3e} F - R1={:.4e} Ohm'.format(l1, c1, r1))"
   ]
  },
  {
   "cell_type": "code",
   "execution_count": 36,
   "id": "ae736e55",
   "metadata": {},
   "outputs": [
    {
     "name": "stdout",
     "output_type": "stream",
     "text": [
      "Componentes del 2do filtro:\n",
      "L2=0.7035 Hy - C2=4.121e-09 F - R2=1.0000e+04 Ohm\n"
     ]
    }
   ],
   "source": [
    "l2 = (l2*norma_z)/norma_w\n",
    "c2 = c2/(norma_z*norma_w)\n",
    "r2 = r2*norma_z\n",
    "\n",
    "print('Componentes del 2do filtro:')\n",
    "print('L2={:.4f} Hy - C2={:.3e} F - R2={:.4e} Ohm'.format(l2, c2, r2))"
   ]
  },
  {
   "cell_type": "markdown",
   "id": "adbde9e7",
   "metadata": {},
   "source": [
    "Para la verificación, se realizó la siguiente simulación en LTSpice:\n",
    "\n",
    "<div>\n",
    "<img src=\"img/circuito.PNG\" alt=\"Drawing\" style=\"width: 800px;\"/>\n",
    "</div>\n",
    "\n",
    "A lo cual se obtuvieron los siguientes resultados:\n",
    "\n",
    "<div>\n",
    "<img src=\"img/simulacion.PNG\" alt=\"Drawing\" style=\"width: 800px;\"/>\n",
    "</div>\n",
    "\n",
    "Los inductores pueden ser activados mediante la siguiente estructura:\n",
    "<div>\n",
    "<img src=\"img/activador.PNG\" alt=\"Drawing\" style=\"width: 800px;\"/>\n",
    "</div>\n",
    "\n",
    "Conociendo los valores de inductancia deseados, calculamos los valores de los componentes que permiten la activación de los inductores: $Leq=R^2.C$"
   ]
  },
  {
   "cell_type": "code",
   "execution_count": 39,
   "id": "3550deb3",
   "metadata": {},
   "outputs": [
    {
     "name": "stdout",
     "output_type": "stream",
     "text": [
      "En todos los casos usamos C=1e-09\n",
      "Resistencias para activar inductor 1: R=1.707e+04\n",
      "Resistencias para activar inductor 2: R=2.652e+04\n"
     ]
    }
   ],
   "source": [
    "c = 1e-9\n",
    "\n",
    "r_l1 = np.sqrt(l1/c)\n",
    "r_l2 = np.sqrt(l2/c)\n",
    "\n",
    "print('En todos los casos usamos C={:.0e}'.format(c))\n",
    "print('Resistencias para activar inductor 1: R={:.3e}'.format(r_l1))\n",
    "print('Resistencias para activar inductor 2: R={:.3e}'.format(r_l2))"
   ]
  },
  {
   "cell_type": "markdown",
   "id": "dfca79d6",
   "metadata": {},
   "source": [
    "Para la verificación, se realizó la siguiente simulación en LTSpice:\n",
    "\n",
    "<div>\n",
    "<img src=\"img/circuito-activado.PNG\" alt=\"Drawing\" style=\"width: 800px;\"/>\n",
    "</div>\n",
    "\n",
    "A lo cual se obtuvieron los siguientes resultados:\n",
    "\n",
    "<div>\n",
    "<img src=\"img/simulacion-activado.PNG\" alt=\"Drawing\" style=\"width: 800px;\"/>\n",
    "</div>"
   ]
  }
 ],
 "metadata": {
  "kernelspec": {
   "display_name": "Python 3 (ipykernel)",
   "language": "python",
   "name": "python3"
  },
  "language_info": {
   "codemirror_mode": {
    "name": "ipython",
    "version": 3
   },
   "file_extension": ".py",
   "mimetype": "text/x-python",
   "name": "python",
   "nbconvert_exporter": "python",
   "pygments_lexer": "ipython3",
   "version": "3.9.7"
  }
 },
 "nbformat": 4,
 "nbformat_minor": 5
}
