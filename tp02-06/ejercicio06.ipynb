{
 "cells": [
  {
   "cell_type": "markdown",
   "id": "0341f17e",
   "metadata": {},
   "source": [
    "# Ejercicio N6\n",
    "Diseñar un filtro pasabajos a partir de una estructura MFB sabiendo que debe proporcionar un retardo constante de 100 µs en la banda de paso, con un desvío del retardo máximo de 10% para la frecuencia de ⍵1=25k rad/s y un máximo de 1  dB de atenuación a la frecuencia de ⍵2= 10k rad/s\n",
    "\n",
    "Para comenzar, se normaliza la plantilla:"
   ]
  },
  {
   "cell_type": "code",
   "execution_count": 2,
   "id": "649efd80",
   "metadata": {},
   "outputs": [
    {
     "name": "stdout",
     "output_type": "stream",
     "text": [
      "Frecuencias normalizadas: W1=2.5, W2=1\n"
     ]
    }
   ],
   "source": [
    "w1 = 25e3\n",
    "w2 = 10e3\n",
    "T = 100e-6\n",
    "\n",
    "norma_w = 1/T\n",
    "\n",
    "w1 = w1/norma_w\n",
    "w2 = w2/norma_w\n",
    "\n",
    "print('Frecuencias normalizadas: W1={:0.1f}, W2={:0.0f}'.format(w1, w2))"
   ]
  },
  {
   "cell_type": "markdown",
   "id": "59302988",
   "metadata": {},
   "source": [
    "Con estos valores, se deben revisar los gráficos de Bessel:\n",
    "\n",
    "<div>\n",
    "<img src=\"img/bessel1.PNG\" alt=\"Drawing\" style=\"width: 800px;\"/>\n",
    "</div>\n",
    "\n",
    "<div>\n",
    "<img src=\"img/bessel2.PNG\" alt=\"Drawing\" style=\"width: 400px;\"/>\n",
    "</div>\n",
    "\n",
    "<div>\n",
    "<img src=\"img/bessel3.PNG\" alt=\"Drawing\" style=\"width: 400px;\"/>\n",
    "</div>\n",
    "\n",
    "El 10% de desviación se satisface con $n=4$, mientras que la atenuación de 1dB se logra con $n=3$. Para lograr satisfacer ambos requisitos, se opta por trabajar con $n=4$.\n",
    "\n",
    "La transferencia de un filtro Bessel de orden 4 se corresponde con la siguiente expresión:\n",
    "\n",
    "$$ H(s)=\\frac{105}{s^4+10s^3+45s^2+105s+105}=\\frac{9,14}{s^2+5,79s+9,14}.\\frac{11,49}{s^2+4,21s+11,49} $$\n",
    "\n",
    "Para sintetizar el circuito, se debe utilizar la estructura MFB. Todas las características relacionadas con esta topología se pueden encontrar en el siguiente documento:"
   ]
  },
  {
   "cell_type": "code",
   "execution_count": 16,
   "id": "e28133ee",
   "metadata": {},
   "outputs": [
    {
     "data": {
      "text/html": [
       "\n",
       "        <iframe\n",
       "            width=\"1000\"\n",
       "            height=\"500\"\n",
       "            src=\"./pdf/mt-220.pdf\"\n",
       "            frameborder=\"0\"\n",
       "            allowfullscreen\n",
       "            \n",
       "        ></iframe>\n",
       "        "
      ],
      "text/plain": [
       "<IPython.lib.display.IFrame at 0x234ec213040>"
      ]
     },
     "execution_count": 16,
     "metadata": {},
     "output_type": "execute_result"
    }
   ],
   "source": [
    "from IPython.display import IFrame\n",
    "IFrame(\"./pdf/mt-220.pdf\", width=1000, height=500)"
   ]
  },
  {
   "cell_type": "markdown",
   "id": "373f6447",
   "metadata": {},
   "source": [
    "El documento define a la transferencia como:\n",
    "\n",
    "$$ \\frac{-Hw_o^2}{s^2+aw_os+w_o^2} $$\n",
    "\n",
    "A continuación se diseñan las secciones de segundo orden:"
   ]
  },
  {
   "cell_type": "code",
   "execution_count": 3,
   "id": "12554dbc",
   "metadata": {},
   "outputs": [
    {
     "name": "stdout",
     "output_type": "stream",
     "text": [
      "Componentes del primer filtro:\n",
      "R1=5.041e+03 ohm - R3=2.521e+03 ohm - R4=5.041e+03 ohm\n",
      "C2=2.09e-09 F - C5=1.00e-09 F\n"
     ]
    }
   ],
   "source": [
    "import numpy as np\n",
    "\n",
    "wo1_2 = 9.14\n",
    "a_1 = 5.79/np.sqrt(wo1_2)\n",
    "H_1 = 9.14/(wo1_2)\n",
    "\n",
    "c5_1 = 1e-9\n",
    "k_1 = 2*np.pi*np.sqrt(wo1_2)*norma_w*c5_1\n",
    "c2_1 = (2/a_1)*(H_1+1)*c5_1\n",
    "r1_1 = a_1/(2*H_1*k_1)\n",
    "r3_1 = a_1/(2*(H_1+1)*k_1)\n",
    "r4_1 = a_1/(2*k_1)\n",
    "\n",
    "print('Componentes del primer filtro:')\n",
    "print('R1={:.3e} ohm - R3={:.3e} ohm - R4={:.3e} ohm'.format(r1_1, r3_1, r4_1))\n",
    "print('C2={:.2e} F - C5={:.2e} F'.format(c2_1, c5_1))"
   ]
  },
  {
   "cell_type": "code",
   "execution_count": 4,
   "id": "9376326b",
   "metadata": {},
   "outputs": [
    {
     "name": "stdout",
     "output_type": "stream",
     "text": [
      "Componentes del segundo filtro:\n",
      "R1=2.916e+03 ohm - R3=1.458e+03 ohm - R4=2.916e+03 ohm\n",
      "C2=3.22e-09 F - C5=1.00e-09 F\n"
     ]
    }
   ],
   "source": [
    "wo2_2 = 11.49\n",
    "a_2 = 4.21/np.sqrt(wo2_2)\n",
    "H_2 = 11.49/(wo2_2)\n",
    "\n",
    "c5_2 = 1e-9\n",
    "k_2 = 2*np.pi*np.sqrt(wo2_2)*norma_w*c5_2\n",
    "c2_2 = (2/a_2)*(H_2+1)*c5_2\n",
    "r1_2 = a_2/(2*H_2*k_2)\n",
    "r3_2 = a_2/(2*(H_2+1)*k_2)\n",
    "r4_2 = a_2/(2*k_2)\n",
    "\n",
    "print('Componentes del segundo filtro:')\n",
    "print('R1={:.3e} ohm - R3={:.3e} ohm - R4={:.3e} ohm'.format(r1_2, r3_2, r4_2))\n",
    "print('C2={:.2e} F - C5={:.2e} F'.format(c2_2, c5_2))"
   ]
  },
  {
   "cell_type": "markdown",
   "id": "379011e3",
   "metadata": {},
   "source": [
    "Teniendo los valores de los componentes, se realizó la simulación del circuito en LTSpice:\n",
    "\n",
    "<div>\n",
    "<img src=\"img/circuito.PNG\" alt=\"Drawing\" style=\"width: 800px;\"/>\n",
    "</div>\n",
    "\n",
    "A lo que se obtuvo la siguiente transferencia:\n",
    "\n",
    "<div>\n",
    "<img src=\"img/simulacion.PNG\" alt=\"Drawing\" style=\"width: 800px;\"/>\n",
    "</div>\n",
    "\n",
    "Se puede observar que se cumple con las especificaciones del enunciado"
   ]
  }
 ],
 "metadata": {
  "kernelspec": {
   "display_name": "Python 3 (ipykernel)",
   "language": "python",
   "name": "python3"
  },
  "language_info": {
   "codemirror_mode": {
    "name": "ipython",
    "version": 3
   },
   "file_extension": ".py",
   "mimetype": "text/x-python",
   "name": "python",
   "nbconvert_exporter": "python",
   "pygments_lexer": "ipython3",
   "version": "3.9.7"
  }
 },
 "nbformat": 4,
 "nbformat_minor": 5
}
