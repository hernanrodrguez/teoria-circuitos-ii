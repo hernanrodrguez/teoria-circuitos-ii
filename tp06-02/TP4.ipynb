{
 "cells": [
  {
   "cell_type": "code",
   "execution_count": 8,
   "id": "0399005a",
   "metadata": {},
   "outputs": [
    {
     "data": {
      "text/html": [
       "\n",
       "        <iframe\n",
       "            width=\"1000\"\n",
       "            height=\"500\"\n",
       "            src=\"./pdf/ej2.pdf\"\n",
       "            frameborder=\"0\"\n",
       "            allowfullscreen\n",
       "            \n",
       "        ></iframe>\n",
       "        "
      ],
      "text/plain": [
       "<IPython.lib.display.IFrame at 0x195e2ae3190>"
      ]
     },
     "execution_count": 8,
     "metadata": {},
     "output_type": "execute_result"
    }
   ],
   "source": [
    "from IPython.display import IFrame\n",
    "IFrame(\"./pdf/ej2.pdf\", width=1000, height=500)"
   ]
  },
  {
   "cell_type": "code",
   "execution_count": 3,
   "id": "167f1262",
   "metadata": {},
   "outputs": [
    {
     "name": "stdout",
     "output_type": "stream",
     "text": [
      "Componentes normalizados Foster Serie:\n",
      "C1=2.6667 - C2=4.0000 - C3=2.6667 - L2=0.1250 - L3=0.0938\n",
      "Componentes desnormalizados Foster Serie:\n",
      "C1=3.419e-09 F - C2=5.128e-09 F - C3=3.419e-09 F - L2=2.308e-04 Hy - L3=1.731e-04 Hy\n"
     ]
    }
   ],
   "source": [
    "norma_z = 1200\n",
    "norma_w = 650e3\n",
    "\n",
    "# Foster Serie\n",
    "C_1 = 8/3\n",
    "C_2 = 4\n",
    "C_3 = 8/3\n",
    "L_2 = 1/8\n",
    "L_3 = 3/32\n",
    "\n",
    "print('Componentes normalizados Foster Serie:')\n",
    "print('C1={:.4f} - C2={:.4f} - C3={:.4f} - L2={:.4f} - L3={:.4f}'.format(C_1, C_2, C_3, L_2, L_3))\n",
    "\n",
    "C_1 = C_1/(norma_z*norma_w)\n",
    "C_2 = C_2/(norma_z*norma_w)\n",
    "C_3 = C_3/(norma_z*norma_w)\n",
    "L_2 = (L_2*norma_z)/norma_w\n",
    "L_3 = (L_3*norma_z)/norma_w\n",
    "\n",
    "print('Componentes desnormalizados Foster Serie:')\n",
    "print('C1={:.3e} F - C2={:.3e} F - C3={:.3e} F - L2={:.3e} Hy - L3={:.3e} Hy'.format(C_1, C_2, C_3, L_2, L_3))"
   ]
  },
  {
   "cell_type": "code",
   "execution_count": 4,
   "id": "bf7eebc9",
   "metadata": {},
   "outputs": [
    {
     "name": "stdout",
     "output_type": "stream",
     "text": [
      "Componentes normalizados Foster Paralelo:\n",
      "C1=1.5000 - C2=0.1667 - C3=1.0000 - L1=0.6667 - L2=2.0000\n",
      "Componentes desnormalizados Foster Paralelo:\n",
      "C1=1.923e-09 F - C2=2.137e-10 F - C3=1.282e-09 F - L1=1.231e-03 Hy - L2=3.692e-03 Hy\n"
     ]
    }
   ],
   "source": [
    "# Foster Paralelo\n",
    "C_1 = 3/2\n",
    "C_2 = 1/6\n",
    "C_3 = 1\n",
    "L_1 = 2/3\n",
    "L_2 = 2\n",
    "\n",
    "print('Componentes normalizados Foster Paralelo:')\n",
    "print('C1={:.4f} - C2={:.4f} - C3={:.4f} - L1={:.4f} - L2={:.4f}'.format(C_1, C_2, C_3, L_1, L_2))\n",
    "\n",
    "C_1 = C_1/(norma_z*norma_w)\n",
    "C_2 = C_2/(norma_z*norma_w)\n",
    "C_3 = C_3/(norma_z*norma_w)\n",
    "L_1 = (L_1*norma_z)/norma_w\n",
    "L_2 = (L_2*norma_z)/norma_w\n",
    "\n",
    "print('Componentes desnormalizados Foster Paralelo:')\n",
    "print('C1={:.3e} F - C2={:.3e} F - C3={:.3e} F - L1={:.3e} Hy - L2={:.3e} Hy'.format(C_1, C_2, C_3, L_1, L_2))"
   ]
  },
  {
   "cell_type": "code",
   "execution_count": 5,
   "id": "ea6ad018",
   "metadata": {},
   "outputs": [
    {
     "name": "stdout",
     "output_type": "stream",
     "text": [
      "Componentes normalizados Cauer I:\n",
      "C1=0.5000 - C2=1.5000 - L1=1.0000 - L2=1.3333 - L3=0.3333\n",
      "Componentes desnormalizados Cauer I:\n",
      "C1=6.410e-10 F - C2=1.923e-09 F - L1=1.846e-03 Hy - L2=2.462e-03 Hy - L3=4.544e-06 Hy\n"
     ]
    }
   ],
   "source": [
    "# Cauer I\n",
    "L_1 = 1\n",
    "L_2 = 4/3\n",
    "L_3 = 1/3\n",
    "C_1 = 1/2\n",
    "C_2 = 3/2\n",
    "\n",
    "print('Componentes normalizados Cauer I:')\n",
    "print('C1={:.4f} - C2={:.4f} - L1={:.4f} - L2={:.4f} - L3={:.4f}'.format(C_1, C_2, L_1, L_2, L_3))\n",
    "\n",
    "C_1 = C_1/(norma_z*norma_w)\n",
    "C_2 = C_2/(norma_z*norma_w)\n",
    "L_1 = (L_1*norma_z)/norma_w\n",
    "L_2 = (L_2*norma_z)/norma_w\n",
    "L_3 = (L_2*norma_z)/norma_w\n",
    "\n",
    "print('Componentes desnormalizados Cauer I:')\n",
    "print('C1={:.3e} F - C2={:.3e} F - L1={:.3e} Hy - L2={:.3e} Hy - L3={:.3e} Hy'.format(C_1, C_2, L_1, L_2, L_3))"
   ]
  },
  {
   "cell_type": "code",
   "execution_count": 7,
   "id": "07ae3fc2",
   "metadata": {},
   "outputs": [
    {
     "name": "stdout",
     "output_type": "stream",
     "text": [
      "Componentes normalizados Cauer II:\n",
      "C1=0.3750 - C2=0.0715 - C3=0.0682 - L1=0.4267 - L2=1.8580\n",
      "Componentes desnormalizados Cauer II:\n",
      "C1=4.808e-10 F - C2=9.171e-11 F - C3=8.741e-11 F - L1=7.877e-04 Hy - L2=3.430e-03 Hy\n"
     ]
    }
   ],
   "source": [
    "# Cauer II\n",
    "L_1 = 32/75\n",
    "L_2 = 968/521\n",
    "C_1 = 3/8\n",
    "C_2 = 49/685\n",
    "C_3 = 3/44\n",
    "\n",
    "print('Componentes normalizados Cauer II:')\n",
    "print('C1={:.4f} - C2={:.4f} - C3={:.4f} - L1={:.4f} - L2={:.4f}'.format(C_1, C_2, C_3, L_1, L_2))\n",
    "\n",
    "C_1 = C_1/(norma_z*norma_w)\n",
    "C_2 = C_2/(norma_z*norma_w)\n",
    "C_3 = C_3/(norma_z*norma_w)\n",
    "L_1 = (L_1*norma_z)/norma_w\n",
    "L_2 = (L_2*norma_z)/norma_w\n",
    "\n",
    "print('Componentes desnormalizados Cauer II:')\n",
    "print('C1={:.3e} F - C2={:.3e} F - C3={:.3e} F - L1={:.3e} Hy - L2={:.3e} Hy'.format(C_1, C_2, C_3, L_1, L_2))"
   ]
  }
 ],
 "metadata": {
  "kernelspec": {
   "display_name": "Python 3 (ipykernel)",
   "language": "python",
   "name": "python3"
  },
  "language_info": {
   "codemirror_mode": {
    "name": "ipython",
    "version": 3
   },
   "file_extension": ".py",
   "mimetype": "text/x-python",
   "name": "python",
   "nbconvert_exporter": "python",
   "pygments_lexer": "ipython3",
   "version": "3.9.7"
  }
 },
 "nbformat": 4,
 "nbformat_minor": 5
}
